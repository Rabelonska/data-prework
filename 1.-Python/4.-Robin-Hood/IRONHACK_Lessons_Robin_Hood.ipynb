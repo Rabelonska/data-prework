{
 "cells": [
  {
   "cell_type": "code",
   "execution_count": 91,
   "metadata": {},
   "outputs": [],
   "source": [
    "points = [(4, 5), (-0, 2), (4, 7), (1, -3), (3, -2), (4, 5), (3, 2), (5, 7), (-5, 7), (2, 2), (-4, 5), (0, -2),\n",
    "          (-4, 7), (-1, 3), (-3, 2), (-4, -5), (-3, 2), (5, 7), (5, 7), (2, 2), (9, 9), (-8, -9)]"
   ]
  },
  {
   "cell_type": "code",
   "execution_count": 95,
   "metadata": {},
   "outputs": [
    {
     "name": "stdout",
     "output_type": "stream",
     "text": [
      "[(4, 5), (5, 7), (-3, 2), (2, 2)]\n",
      " There are 4 Arrow on Arrow\n"
     ]
    }
   ],
   "source": [
    "dup = list(set([x for x in points\n",
    "            if points.count(x) > 1]))\n",
    "print(dup)\n",
    "print(f\" There are {len(dup)} Arrow on Arrow\")"
   ]
  },
  {
   "cell_type": "code",
   "execution_count": 103,
   "metadata": {},
   "outputs": [
    {
     "name": "stdout",
     "output_type": "stream",
     "text": [
      "{(4, 5), (5, 7), (-3, 2), (2, 2)}\n"
     ]
    }
   ],
   "source": [
    "unicos = []\n",
    "repetidos = []\n",
    "for x in range(len(points)):\n",
    "    if points[x] not in unicos:\n",
    "        unicos.append(points[x])\n",
    "    else:\n",
    "        repetidos.append(points[x])\n",
    "print(set(repetidos))"
   ]
  },
  {
   "cell_type": "code",
   "execution_count": 148,
   "metadata": {},
   "outputs": [
    {
     "name": "stdout",
     "output_type": "stream",
     "text": [
      "Out of any quadrant\n",
      "Out of any quadrant\n",
      "Q1 has 10 arrows\n",
      "Q2 has 2 arrows\n",
      "Q3 has 2 arrows\n",
      "Q4 has 6 arrows\n"
     ]
    }
   ],
   "source": [
    "q1 = 0\n",
    "q2 = 0\n",
    "q3 = 0\n",
    "q4 = 0\n",
    "\n",
    "for x, y in points:\n",
    "    if x == 0 or y == 0:\n",
    "        print(\"Out of any quadrant\")\n",
    "    elif x > 0 and y > 0:\n",
    "        q1 += 1\n",
    "    elif x > 0 and y < 0:\n",
    "        q2 += 1\n",
    "    elif x < 0 and y < 0:\n",
    "        q3 += 1    \n",
    "    else:\n",
    "        q4 += 1\n",
    "        \n",
    "print(f\"Q1 has {q1} arrows\")\n",
    "print(f\"Q2 has {q2} arrows\")\n",
    "print(f\"Q3 has {q3} arrows\")\n",
    "print(f\"Q4 has {q4} arrows\")        "
   ]
  },
  {
   "cell_type": "code",
   "execution_count": 140,
   "metadata": {},
   "outputs": [],
   "source": [
    "import math\n"
   ]
  },
  {
   "cell_type": "code",
   "execution_count": 141,
   "metadata": {},
   "outputs": [
    {
     "name": "stdout",
     "output_type": "stream",
     "text": [
      "6.4031242374328485\n"
     ]
    }
   ],
   "source": [
    "def eucl(a,b):\n",
    "    dist = math.sqrt(((a-0)**2)+((b-0)**2))\n",
    "    return dist\n",
    "\n",
    "print(eucl(4,5))"
   ]
  },
  {
   "cell_type": "code",
   "execution_count": 143,
   "metadata": {},
   "outputs": [
    {
     "name": "stdout",
     "output_type": "stream",
     "text": [
      "[6.4031242374328485, 2.0, 8.06225774829855, 3.1622776601683795, 3.605551275463989, 6.4031242374328485, 3.605551275463989, 8.602325267042627, 8.602325267042627, 2.8284271247461903, 6.4031242374328485, 2.0, 8.06225774829855, 3.1622776601683795, 3.605551275463989, 6.4031242374328485, 3.605551275463989, 8.602325267042627, 8.602325267042627, 2.8284271247461903, 12.727922061357855, 12.041594578792296]\n"
     ]
    }
   ],
   "source": [
    "pp = []\n",
    "for x, y in points:\n",
    "    pp.append(eucl(x, y))\n",
    "print(pp)\n",
    "\n",
    "for arr in pp:\n",
    "    if arr == 0:\n",
    "        print(\"Bullseye\")\n",
    "    elif arr == 1:\n",
    "        print(\"Nearest arrow\")"
   ]
  },
  {
   "cell_type": "code",
   "execution_count": 144,
   "metadata": {},
   "outputs": [
    {
     "name": "stdout",
     "output_type": "stream",
     "text": [
      "Out of the target\n",
      "Out of the target\n"
     ]
    }
   ],
   "source": [
    "for arr in pp:\n",
    "    if arr > 9:\n",
    "        print(f\"Out of the target\")"
   ]
  },
  {
   "cell_type": "code",
   "execution_count": null,
   "metadata": {},
   "outputs": [],
   "source": []
  }
 ],
 "metadata": {
  "kernelspec": {
   "display_name": "Python 3",
   "language": "python",
   "name": "python3"
  },
  "language_info": {
   "codemirror_mode": {
    "name": "ipython",
    "version": 3
   },
   "file_extension": ".py",
   "mimetype": "text/x-python",
   "name": "python",
   "nbconvert_exporter": "python",
   "pygments_lexer": "ipython3",
   "version": "3.7.4"
  }
 },
 "nbformat": 4,
 "nbformat_minor": 2
}
