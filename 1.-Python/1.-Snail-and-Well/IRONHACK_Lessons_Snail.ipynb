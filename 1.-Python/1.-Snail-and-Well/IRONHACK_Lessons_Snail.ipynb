{
 "cells": [
  {
   "cell_type": "markdown",
   "metadata": {},
   "source": [
    "# SNAIL AND THE WELL LESSON"
   ]
  },
  {
   "cell_type": "code",
   "execution_count": 1,
   "metadata": {},
   "outputs": [],
   "source": [
    "well_height = 125\n",
    "daily_distance = 30\n",
    "nightly_distance = -20\n",
    "snail_position = 0\n",
    "snail_escape = False\n",
    "days = 0"
   ]
  },
  {
   "cell_type": "code",
   "execution_count": 2,
   "metadata": {},
   "outputs": [
    {
     "name": "stdout",
     "output_type": "stream",
     "text": [
      "1\n",
      "2\n",
      "3\n",
      "4\n",
      "5\n",
      "6\n",
      "7\n",
      "8\n",
      "9\n",
      "10\n",
      "11\n"
     ]
    }
   ],
   "source": [
    "while snail_escape == False:\n",
    "    snail_position += daily_distance\n",
    "    days += 1\n",
    "    if snail_position > well_height:\n",
    "        snail_escape = True\n",
    "    else:\n",
    "        snail_position += nightly_distance\n",
    "    print(days)"
   ]
  },
  {
   "cell_type": "code",
   "execution_count": 3,
   "metadata": {},
   "outputs": [],
   "source": [
    "well_height = 125\n",
    "nightly_distance = -20\n",
    "snail_position = 0\n",
    "snail_escape = False\n",
    "days = 0\n",
    "advance_cm = [30, 21, 33, 77, 44, 45, 23, 45, 12, 34, 55]"
   ]
  },
  {
   "cell_type": "code",
   "execution_count": 4,
   "metadata": {},
   "outputs": [
    {
     "name": "stdout",
     "output_type": "stream",
     "text": [
      "1\n",
      "2\n",
      "3\n",
      "4\n",
      "5\n"
     ]
    }
   ],
   "source": [
    "for x in advance_cm:\n",
    "    snail_position += x\n",
    "    days += 1\n",
    "    if snail_position > well_height:\n",
    "        break\n",
    "    else:\n",
    "        snail_position += nightly_distance\n",
    "    print(days)"
   ]
  },
  {
   "cell_type": "code",
   "execution_count": 6,
   "metadata": {},
   "outputs": [],
   "source": [
    "well_height = 125\n",
    "nightly_distance = -20\n",
    "snail_position = 0\n",
    "snail_escape = False\n",
    "days = 0\n",
    "advance_cm = [30, 21, 33, 77, 44, 45, 23, 45, 12, 34, 55]"
   ]
  },
  {
   "cell_type": "code",
   "execution_count": 7,
   "metadata": {},
   "outputs": [
    {
     "name": "stdout",
     "output_type": "stream",
     "text": [
      "30\n",
      "21\n",
      "33\n",
      "77\n",
      "44\n"
     ]
    }
   ],
   "source": [
    "for x in advance_cm:\n",
    "    snail_position += x\n",
    "    days += 1\n",
    "    if snail_position > well_height:\n",
    "        break\n",
    "    else:\n",
    "        snail_position += nightly_distance\n",
    "    print(x)"
   ]
  },
  {
   "cell_type": "code",
   "execution_count": 17,
   "metadata": {},
   "outputs": [],
   "source": [
    "from statistics import stdev, mean, median\n",
    "well_height = 125\n",
    "nightly_distance = -20\n",
    "snail_position = 0\n",
    "snail_escape = False\n",
    "days = 0\n",
    "advance_cm = [30, 21, 33, 77, 44, 45, 23, 45, 12, 34, 55]"
   ]
  },
  {
   "cell_type": "code",
   "execution_count": 18,
   "metadata": {},
   "outputs": [
    {
     "name": "stdout",
     "output_type": "stream",
     "text": [
      "30\n",
      "21\n",
      "33\n",
      "77\n",
      "44\n",
      "the max is 77\n",
      "the min is 21\n",
      "the average is 41.0\n",
      "the mean is 41\n",
      "the median is 33\n",
      "the standard deviation is 21.737065119284157\n"
     ]
    }
   ],
   "source": [
    "m=[]\n",
    "\n",
    "for x in advance_cm:\n",
    "    snail_position += x\n",
    "    days += 1\n",
    "    if snail_position > well_height:      \n",
    "        break\n",
    "    else:\n",
    "        snail_position += nightly_distance\n",
    "    m.append(x)\n",
    "    print(x)\n",
    "mx = max(m)\n",
    "mi = min(m)\n",
    "av = sum(m)/len(m)\n",
    "av2 = mean(m)\n",
    "med = median(m)\n",
    "st = stdev(m)\n",
    "\n",
    "print(f\"the max is {mx}\")\n",
    "print(f\"the min is {mi}\")\n",
    "print(f\"the average is {av}\")\n",
    "print(f\"the mean is {av2}\")\n",
    "print(f\"the median is {med}\")\n",
    "print(f\"the standard deviation is {st}\")"
   ]
  },
  {
   "cell_type": "code",
   "execution_count": null,
   "metadata": {},
   "outputs": [],
   "source": []
  },
  {
   "cell_type": "code",
   "execution_count": null,
   "metadata": {},
   "outputs": [],
   "source": []
  },
  {
   "cell_type": "code",
   "execution_count": null,
   "metadata": {},
   "outputs": [],
   "source": []
  }
 ],
 "metadata": {
  "kernelspec": {
   "display_name": "Python 3",
   "language": "python",
   "name": "python3"
  },
  "language_info": {
   "codemirror_mode": {
    "name": "ipython",
    "version": 3
   },
   "file_extension": ".py",
   "mimetype": "text/x-python",
   "name": "python",
   "nbconvert_exporter": "python",
   "pygments_lexer": "ipython3",
   "version": "3.7.4"
  }
 },
 "nbformat": 4,
 "nbformat_minor": 2
}
