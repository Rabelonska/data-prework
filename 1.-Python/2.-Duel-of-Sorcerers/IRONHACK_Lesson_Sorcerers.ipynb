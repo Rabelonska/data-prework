{
 "cells": [
  {
   "cell_type": "code",
   "execution_count": 1,
   "metadata": {},
   "outputs": [],
   "source": [
    "import random\n",
    "gandalf = [10, 11, 13, 30, 22, 11, 10, 33, 22, 22]\n",
    "saruman = [23, 66, 12, 43, 12, 10, 44, 23, 12, 17]\n",
    "spells = 0\n",
    "gandalf_wins = 0\n",
    "saruman_wins = 0"
   ]
  },
  {
   "cell_type": "code",
   "execution_count": 2,
   "metadata": {},
   "outputs": [
    {
     "name": "stdout",
     "output_type": "stream",
     "text": [
      "22\n"
     ]
    }
   ],
   "source": [
    "print(random.choice(gandalf))"
   ]
  },
  {
   "cell_type": "code",
   "execution_count": 3,
   "metadata": {},
   "outputs": [
    {
     "name": "stdout",
     "output_type": "stream",
     "text": [
      "(11, 12)\n"
     ]
    }
   ],
   "source": [
    "battle = random.choice(gandalf), random.choice(saruman)\n",
    "print(battle)"
   ]
  },
  {
   "cell_type": "code",
   "execution_count": 4,
   "metadata": {},
   "outputs": [
    {
     "name": "stdout",
     "output_type": "stream",
     "text": [
      "10 for Gandalf and 23 for Saruman. Saruman wins 1 times!\n"
     ]
    }
   ],
   "source": [
    "g = random.choice(gandalf)\n",
    "s = random.choice(saruman)\n",
    "if g > s:\n",
    "    gandalf_wins += 1\n",
    "    print(f\"{g} for Gandalf and {s} for Saruman. Gandalf wins {gandalf_wins} times!\")    \n",
    "elif s > g:\n",
    "    saruman_wins += 1\n",
    "    print(f\"{g} for Gandalf and {s} for Saruman. Saruman wins {saruman_wins} times!\")    \n",
    "else:\n",
    "    print(f\"{g} x {s} It´s a Tie\")"
   ]
  },
  {
   "cell_type": "code",
   "execution_count": 5,
   "metadata": {},
   "outputs": [],
   "source": [
    "gandalf = [10, 11, 13, 30, 22, 11, 10, 33, 22, 22]\n",
    "saruman = [23, 66, 12, 43, 12, 10, 44, 23, 12, 17]\n",
    "spells = 0\n",
    "gandalf_wins = 0\n",
    "saruman_wins = 0"
   ]
  },
  {
   "cell_type": "code",
   "execution_count": 6,
   "metadata": {},
   "outputs": [
    {
     "name": "stdout",
     "output_type": "stream",
     "text": [
      "10 for Gandalf and 23 for Saruman. Saruman wins 1 times!\n",
      "11 for Gandalf and 66 for Saruman. Saruman wins 2 times!\n",
      "13 for Gandalf and 12 for Saruman. Gandalf wins 1 times!\n",
      "30 for Gandalf and 43 for Saruman. Saruman wins 3 times!\n",
      "22 for Gandalf and 12 for Saruman. Gandalf wins 2 times!\n",
      "11 for Gandalf and 10 for Saruman. Gandalf wins 3 times!\n",
      "10 for Gandalf and 44 for Saruman. Saruman wins 4 times!\n",
      "33 for Gandalf and 23 for Saruman. Gandalf wins 4 times!\n",
      "22 for Gandalf and 12 for Saruman. Gandalf wins 5 times!\n",
      "22 for Gandalf and 17 for Saruman. Gandalf wins 6 times!\n"
     ]
    }
   ],
   "source": [
    "for g, s in zip(gandalf, saruman):\n",
    "    if g > s:\n",
    "        gandalf_wins += 1\n",
    "        print(f\"{g} for Gandalf and {s} for Saruman. Gandalf wins {gandalf_wins} times!\")    \n",
    "    elif s > g:\n",
    "        saruman_wins += 1\n",
    "        print(f\"{g} for Gandalf and {s} for Saruman. Saruman wins {saruman_wins} times!\")    \n",
    "    else:\n",
    "        print(f\"{g} x {s} It´s a Tie\")\n",
    "    "
   ]
  },
  {
   "cell_type": "code",
   "execution_count": 7,
   "metadata": {},
   "outputs": [
    {
     "name": "stdout",
     "output_type": "stream",
     "text": [
      "10 for Gandalf and 23 for Saruman. Saruman wins 5 times!\n",
      "11 for Gandalf and 66 for Saruman. Saruman wins 6 times!\n",
      "13 for Gandalf and 12 for Saruman. Gandalf wins 7 times!\n",
      "30 for Gandalf and 43 for Saruman. Saruman wins 7 times!\n",
      "22 for Gandalf and 12 for Saruman. Gandalf wins 8 times!\n",
      "11 for Gandalf and 10 for Saruman. Gandalf wins 9 times!\n",
      "10 for Gandalf and 44 for Saruman. Saruman wins 8 times!\n",
      "33 for Gandalf and 23 for Saruman. Gandalf wins 10 times!\n",
      "22 for Gandalf and 12 for Saruman. Gandalf wins 11 times!\n",
      "22 for Gandalf and 17 for Saruman. Gandalf wins 12 times!\n"
     ]
    }
   ],
   "source": [
    "for x in range(len(gandalf)):\n",
    "    if gandalf[x] > saruman[x]:\n",
    "        gandalf_wins += 1\n",
    "        print(f\"{gandalf[x]} for Gandalf and {saruman[x]} for Saruman. Gandalf wins {gandalf_wins} times!\")    \n",
    "    elif gandalf[x] < saruman[x]:\n",
    "        saruman_wins += 1\n",
    "        print(f\"{gandalf[x]} for Gandalf and {saruman[x]} for Saruman. Saruman wins {saruman_wins} times!\")    \n",
    "    else:\n",
    "        print(f\"{gandalf[x]} x {saruman[x]} It´s a Tie\")"
   ]
  },
  {
   "cell_type": "code",
   "execution_count": 8,
   "metadata": {},
   "outputs": [],
   "source": [
    "POWER = {\n",
    "    'Fireball': 50, \n",
    "    'Lightning bolt': 40, \n",
    "    'Magic arrow': 10, \n",
    "    'Black Tentacles': 25, \n",
    "    'Contagion': 45\n",
    "}\n",
    "gandalf = ['Fireball', 'Lightning bolt', 'Lightning bolt', 'Magic arrow', 'Fireball', \n",
    "           'Magic arrow', 'Lightning bolt', 'Fireball', 'Fireball', 'Fireball']\n",
    "saruman = ['Contagion', 'Contagion', 'Black Tentacles', 'Fireball', 'Black Tentacles', \n",
    "           'Lightning bolt', 'Magic arrow', 'Contagion', 'Magic arrow', 'Magic arrow']\n",
    "spells = 0\n",
    "gandalf_wins = 0\n",
    "saruman_wins = 0\n",
    "gandalf_power = 0\n",
    "saruman_power = 0"
   ]
  },
  {
   "cell_type": "code",
   "execution_count": 9,
   "metadata": {},
   "outputs": [
    {
     "name": "stdout",
     "output_type": "stream",
     "text": [
      "50\n"
     ]
    }
   ],
   "source": [
    "p = POWER[\"Fireball\"]\n",
    "print(p)"
   ]
  },
  {
   "cell_type": "code",
   "execution_count": 10,
   "metadata": {},
   "outputs": [
    {
     "name": "stdout",
     "output_type": "stream",
     "text": [
      "50\n",
      "40\n",
      "40\n",
      "10\n",
      "50\n",
      "10\n",
      "40\n",
      "50\n",
      "50\n",
      "50\n"
     ]
    }
   ],
   "source": [
    "for x in range(len(gandalf)):\n",
    "    print(POWER[gandalf[x]])"
   ]
  },
  {
   "cell_type": "code",
   "execution_count": 11,
   "metadata": {},
   "outputs": [
    {
     "name": "stdout",
     "output_type": "stream",
     "text": [
      "50 for Gandalf and 45 for Saruman. Gandalf wins 1 times!\n",
      "40 for Gandalf and 45 for Saruman. Saruman wins 1 times!\n",
      "40 for Gandalf and 25 for Saruman. Gandalf wins 2 times!\n",
      "10 for Gandalf and 50 for Saruman. Saruman wins 2 times!\n",
      "50 for Gandalf and 25 for Saruman. Gandalf wins 3 times!\n",
      "10 for Gandalf and 40 for Saruman. Saruman wins 3 times!\n",
      "40 for Gandalf and 10 for Saruman. Gandalf wins 4 times!\n",
      "50 for Gandalf and 45 for Saruman. Gandalf wins 5 times!\n",
      "50 for Gandalf and 10 for Saruman. Gandalf wins 6 times!\n",
      "50 for Gandalf and 10 for Saruman. Gandalf wins 7 times!\n"
     ]
    }
   ],
   "source": [
    "for x in range(len(gandalf)):\n",
    "    if POWER[gandalf[x]] > POWER[saruman[x]]:\n",
    "        gandalf_wins += 1\n",
    "        print(f\"{POWER[gandalf[x]]} for Gandalf and {POWER[saruman[x]]} for Saruman. Gandalf wins {gandalf_wins} times!\")\n",
    "    elif POWER[gandalf[x]] < POWER[saruman[x]]:\n",
    "        saruman_wins += 1\n",
    "        print(f\"{POWER[gandalf[x]]} for Gandalf and {POWER[saruman[x]]} for Saruman. Saruman wins {saruman_wins} times!\")\n",
    "    else:\n",
    "        print(f\"{POWER[gandalf[x]]} x {POWER[saruman[x]]} It´s a Tie\")"
   ]
  },
  {
   "cell_type": "code",
   "execution_count": 12,
   "metadata": {},
   "outputs": [],
   "source": [
    "POWER = {\n",
    "    'Fireball': 50, \n",
    "    'Lightning bolt': 40, \n",
    "    'Magic arrow': 10, \n",
    "    'Black Tentacles': 25, \n",
    "    'Contagion': 45\n",
    "}\n",
    "gandalf = ['Fireball', 'Lightning bolt', 'Lightning bolt', 'Magic arrow', 'Fireball', \n",
    "           'Magic arrow', 'Lightning bolt', 'Fireball', 'Fireball', 'Fireball']\n",
    "saruman = ['Contagion', 'Contagion', 'Black Tentacles', 'Fireball', 'Black Tentacles', \n",
    "           'Lightning bolt', 'Magic arrow', 'Contagion', 'Magic arrow', 'Magic arrow']\n",
    "spells = 0\n",
    "wins = []\n",
    "gandalf_wins = []\n",
    "saruman_wins = 0\n",
    "gandalf_power = 0\n",
    "saruman_power = 0"
   ]
  },
  {
   "cell_type": "code",
   "execution_count": 13,
   "metadata": {},
   "outputs": [
    {
     "name": "stdout",
     "output_type": "stream",
     "text": [
      "Gandalf wins\n",
      "Gandalf wins\n",
      "Gandalf wins\n"
     ]
    }
   ],
   "source": [
    "for x in range(len(gandalf)):\n",
    "    if POWER[gandalf[x]] > POWER[saruman[x]]:\n",
    "        wins.append(1)\n",
    "    elif POWER[gandalf[x]] < POWER[saruman[x]]:\n",
    "        wins.append(2)\n",
    "    else:\n",
    "        print(\"it´s a tie!\")\n",
    "        \n",
    "for n in range(len(wins)):\n",
    "    if ((wins[n-2] == 1)and(wins[n-1] == 1) and (wins[n] == 1)):\n",
    "        print(\"Gandalf wins\")\n",
    "    elif ((wins[n-2] == 2)and(wins[n-1] == 2) and (wins[n] == 2)):\n",
    "        print(\"Saruman wins\")"
   ]
  },
  {
   "cell_type": "code",
   "execution_count": 14,
   "metadata": {},
   "outputs": [],
   "source": [
    "from statistics import stdev, mean, median"
   ]
  },
  {
   "cell_type": "code",
   "execution_count": 15,
   "metadata": {},
   "outputs": [
    {
     "name": "stdout",
     "output_type": "stream",
     "text": [
      "[50, 40, 40, 10, 50, 10, 40, 50, 50, 50]\n",
      "[45, 45, 25, 50, 25, 40, 10, 45, 10, 10]\n"
     ]
    }
   ],
   "source": [
    "gd = []\n",
    "sd = []\n",
    "for item in range(len(gandalf)):\n",
    "    gd.append(POWER[gandalf[item]])\n",
    "    sd.append(POWER[saruman[item]])\n",
    "print(gd)\n",
    "print(sd)\n"
   ]
  },
  {
   "cell_type": "code",
   "execution_count": 16,
   "metadata": {},
   "outputs": [
    {
     "name": "stdout",
     "output_type": "stream",
     "text": [
      "Gandalf´s average is 39 and Standard Deviation is 15.951314818673865\n",
      "Saruman´s average is 30.5 and Standard Deviation is 16.40629960309962\n"
     ]
    }
   ],
   "source": [
    "gp = mean(gd)\n",
    "sp = mean(sd)\n",
    "gst = stdev(gd)\n",
    "sst = stdev(sd)\n",
    "print(f\"Gandalf´s average is {gp} and Standard Deviation is {gst}\")\n",
    "print(f\"Saruman´s average is {sp} and Standard Deviation is {sst}\")"
   ]
  },
  {
   "cell_type": "code",
   "execution_count": null,
   "metadata": {},
   "outputs": [],
   "source": []
  },
  {
   "cell_type": "code",
   "execution_count": null,
   "metadata": {},
   "outputs": [],
   "source": []
  }
 ],
 "metadata": {
  "kernelspec": {
   "display_name": "Python 3",
   "language": "python",
   "name": "python3"
  },
  "language_info": {
   "codemirror_mode": {
    "name": "ipython",
    "version": 3
   },
   "file_extension": ".py",
   "mimetype": "text/x-python",
   "name": "python",
   "nbconvert_exporter": "python",
   "pygments_lexer": "ipython3",
   "version": "3.7.4"
  }
 },
 "nbformat": 4,
 "nbformat_minor": 2
}
