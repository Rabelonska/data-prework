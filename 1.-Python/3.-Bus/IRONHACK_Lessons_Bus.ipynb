{
 "cells": [
  {
   "cell_type": "code",
   "execution_count": 195,
   "metadata": {},
   "outputs": [],
   "source": [
    "from statistics import mean, stdev, median\n",
    "stops = [(10, 0), (4, 1), (3, 5), (3, 4), (5, 1), (1, 5), (5, 8), (4, 6), (2, 3)]"
   ]
  },
  {
   "cell_type": "code",
   "execution_count": 196,
   "metadata": {},
   "outputs": [
    {
     "name": "stdout",
     "output_type": "stream",
     "text": [
      "The number os stops is 9\n"
     ]
    }
   ],
   "source": [
    "print(f\"The number os stops is {len(stops)}\")"
   ]
  },
  {
   "cell_type": "code",
   "execution_count": 197,
   "metadata": {},
   "outputs": [],
   "source": [
    "in_out = []\n",
    "entra = []\n",
    "sai = []"
   ]
  },
  {
   "cell_type": "code",
   "execution_count": 198,
   "metadata": {},
   "outputs": [
    {
     "name": "stdout",
     "output_type": "stream",
     "text": [
      "[10, 4, 3, 3, 5, 1, 5, 4, 2] [0, 1, 5, 4, 1, 5, 8, 6, 3]\n"
     ]
    }
   ],
   "source": [
    "for ins, out in stops:\n",
    "    entra.append(ins)\n",
    "    sai.append(out)\n",
    "    \n",
    "print(entra, sai)"
   ]
  },
  {
   "cell_type": "code",
   "execution_count": 199,
   "metadata": {},
   "outputs": [
    {
     "name": "stdout",
     "output_type": "stream",
     "text": [
      "Number of people in the bus, on the last stop is 4\n"
     ]
    }
   ],
   "source": [
    "total = sum(entra) - sum(sai)\n",
    "print(f\"Number of people in the bus, on the last stop is {total}\")"
   ]
  },
  {
   "cell_type": "code",
   "execution_count": 200,
   "metadata": {},
   "outputs": [
    {
     "name": "stdout",
     "output_type": "stream",
     "text": [
      "The number os people per stop is [10, 13, 11, 10, 14, 10, 7, 5, 4]\n"
     ]
    }
   ],
   "source": [
    "t=0\n",
    "sto = []\n",
    "for e, s in zip(entra, sai):\n",
    "    t = t + e - s    \n",
    "    sto.append(t)\n",
    "print(f\"The number os people per stop is {sto}\")\n",
    "    "
   ]
  },
  {
   "cell_type": "code",
   "execution_count": 201,
   "metadata": {},
   "outputs": [
    {
     "name": "stdout",
     "output_type": "stream",
     "text": [
      "The maximum occupation of the bus is 14\n"
     ]
    }
   ],
   "source": [
    "print(f\"The maximum occupation of the bus is {max(sto)}\")"
   ]
  },
  {
   "cell_type": "code",
   "execution_count": 203,
   "metadata": {},
   "outputs": [
    {
     "name": "stdout",
     "output_type": "stream",
     "text": [
      "The average occupation of the bus is 9.333333333333334\n"
     ]
    }
   ],
   "source": [
    "print(f\"The average occupation of the bus is {mean(sto)}\")"
   ]
  },
  {
   "cell_type": "code",
   "execution_count": 205,
   "metadata": {},
   "outputs": [
    {
     "name": "stdout",
     "output_type": "stream",
     "text": [
      "The standard deviation occupation of the bus is 3.391164991562634\n"
     ]
    }
   ],
   "source": [
    "print(f\"The standard deviation occupation of the bus is {stdev(sto)}\")"
   ]
  },
  {
   "cell_type": "code",
   "execution_count": 206,
   "metadata": {},
   "outputs": [
    {
     "name": "stdout",
     "output_type": "stream",
     "text": [
      "The median occupation of the bus is 10\n"
     ]
    }
   ],
   "source": [
    "print(f\"The median occupation of the bus is {median(sto)}\")"
   ]
  },
  {
   "cell_type": "code",
   "execution_count": null,
   "metadata": {},
   "outputs": [],
   "source": []
  }
 ],
 "metadata": {
  "kernelspec": {
   "display_name": "Python 3",
   "language": "python",
   "name": "python3"
  },
  "language_info": {
   "codemirror_mode": {
    "name": "ipython",
    "version": 3
   },
   "file_extension": ".py",
   "mimetype": "text/x-python",
   "name": "python",
   "nbconvert_exporter": "python",
   "pygments_lexer": "ipython3",
   "version": "3.7.4"
  }
 },
 "nbformat": 4,
 "nbformat_minor": 2
}
