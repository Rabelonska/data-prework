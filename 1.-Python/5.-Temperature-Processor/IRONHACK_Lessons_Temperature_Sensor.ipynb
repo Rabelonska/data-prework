{
 "cells": [
  {
   "cell_type": "code",
   "execution_count": 63,
   "metadata": {},
   "outputs": [],
   "source": [
    "from statistics import mean, median, stdev\n",
    "temperatures_C = [33, 66, 65, 0, 59, 60, 62, 64, 70, 76, 80, 81, 80, 83, 90, 79, 61, 53, 50, 49, 53, 48, 45, 39]"
   ]
  },
  {
   "cell_type": "code",
   "execution_count": 64,
   "metadata": {},
   "outputs": [
    {
     "name": "stdout",
     "output_type": "stream",
     "text": [
      "127.8\n"
     ]
    }
   ],
   "source": [
    "print(t)"
   ]
  },
  {
   "cell_type": "code",
   "execution_count": 65,
   "metadata": {},
   "outputs": [
    {
     "name": "stdout",
     "output_type": "stream",
     "text": [
      "The maximum temperature is 90\n"
     ]
    }
   ],
   "source": [
    "print(f\"The maximum temperature is {max(temperatures_C)}\")"
   ]
  },
  {
   "cell_type": "code",
   "execution_count": 66,
   "metadata": {},
   "outputs": [
    {
     "name": "stdout",
     "output_type": "stream",
     "text": [
      "The minimum temperature is 0\n"
     ]
    }
   ],
   "source": [
    "print(f\"The minimum temperature is {min(temperatures_C)}\")"
   ]
  },
  {
   "cell_type": "code",
   "execution_count": 67,
   "metadata": {},
   "outputs": [],
   "source": [
    "temperatures_C.sort()"
   ]
  },
  {
   "cell_type": "code",
   "execution_count": 68,
   "metadata": {},
   "outputs": [
    {
     "name": "stdout",
     "output_type": "stream",
     "text": [
      "The minimum temperature is [0]\n"
     ]
    }
   ],
   "source": [
    "print(f\"The minimum temperature is {temperatures_C[:1]}\") "
   ]
  },
  {
   "cell_type": "code",
   "execution_count": 69,
   "metadata": {},
   "outputs": [
    {
     "name": "stdout",
     "output_type": "stream",
     "text": [
      "Temperatures greater or equal to 70 are: [70, 76, 79, 80, 80, 81, 83, 90]\n"
     ]
    }
   ],
   "source": [
    "temp_70 = []\n",
    "for x in temperatures_C:\n",
    "    if x >= 70:\n",
    "        temp_70.append(x)\n",
    "print(f\"Temperatures greater or equal to 70 are: {temp_70}\")"
   ]
  },
  {
   "cell_type": "code",
   "execution_count": 70,
   "metadata": {},
   "outputs": [
    {
     "name": "stdout",
     "output_type": "stream",
     "text": [
      "The average temperature of the day is 60.25\n"
     ]
    }
   ],
   "source": [
    "avg_day = mean(temperatures_C)\n",
    "print(f\"The average temperature of the day is {avg_day}\")"
   ]
  },
  {
   "cell_type": "code",
   "execution_count": 71,
   "metadata": {},
   "outputs": [
    {
     "name": "stdout",
     "output_type": "stream",
     "text": [
      "[0, 33, 39, 60, 48, 49, 50, 53, 53, 59, 60, 61, 62, 64, 65, 66, 70, 76, 79, 80, 80, 81, 83, 90]\n"
     ]
    }
   ],
   "source": [
    "temperatures_C[3] = 60\n",
    "print(temperatures_C)"
   ]
  },
  {
   "cell_type": "code",
   "execution_count": 72,
   "metadata": {},
   "outputs": [
    {
     "name": "stdout",
     "output_type": "stream",
     "text": [
      "[57.6, 117.0, 127.8, 165.6, 144.0, 145.8, 147.6, 153.0, 153.0, 163.8, 165.6, 167.4, 169.20000000000002, 172.8, 174.6, 176.4, 183.6, 194.4, 199.8, 201.6, 201.6, 203.4, 207.0, 219.6]\n"
     ]
    }
   ],
   "source": [
    "\n",
    "f=[]\n",
    "for x in temperatures_C:\n",
    "    t = 1.8 * (x + 32)\n",
    "    f.append(t)\n",
    "print(f)"
   ]
  },
  {
   "cell_type": "code",
   "execution_count": 82,
   "metadata": {},
   "outputs": [
    {
     "name": "stdout",
     "output_type": "stream",
     "text": [
      "Temperatures greater or equal to 70 are: [70, 76, 79, 80, 80, 81, 83, 90]. More than four temperatures are greater than 70. The Cooling System needs replacing\n"
     ]
    }
   ],
   "source": [
    "print(f\"Temperatures greater or equal to 70 are: {temp_70}. More than four temperatures are greater than 70. The Cooling System needs replacing\")"
   ]
  },
  {
   "cell_type": "code",
   "execution_count": null,
   "metadata": {},
   "outputs": [],
   "source": []
  },
  {
   "cell_type": "code",
   "execution_count": 74,
   "metadata": {},
   "outputs": [
    {
     "name": "stdout",
     "output_type": "stream",
     "text": [
      "Hours of the day where the temperatures were greater or equal to 70 is [16, 17, 18, 19, 20, 21, 22, 23].\n",
      "Mora than four consecutive hours with the temperature greater or equal to 70\n",
      "The Cooling System needs replacing\n"
     ]
    }
   ],
   "source": [
    "temp_70_hour = []\n",
    "for x in range(len(temperatures_C)):\n",
    "    if temperatures_C[x] >= 70:\n",
    "        temp_70_hour.append(x)\n",
    "print(f\"Hours of the day where the temperatures were greater or equal to 70 is {temp_70_hour}.\")\n",
    "print(\"Mora than four consecutive hours with the temperature greater or equal to 70\")\n",
    "print(\"The Cooling System needs replacing\")"
   ]
  },
  {
   "cell_type": "code",
   "execution_count": 77,
   "metadata": {},
   "outputs": [],
   "source": [
    "def temp_conv(temp):\n",
    "    f=[]\n",
    "    for x in temperatures_C:\n",
    "        t = 1.8 * (x + 32)\n",
    "        f.append(t)\n",
    "    return f"
   ]
  },
  {
   "cell_type": "code",
   "execution_count": null,
   "metadata": {},
   "outputs": [],
   "source": []
  },
  {
   "cell_type": "code",
   "execution_count": 79,
   "metadata": {},
   "outputs": [
    {
     "name": "stdout",
     "output_type": "stream",
     "text": [
      "Temperatures in Farenheit are [0, 33, 39, 60, 48, 49, 50, 53, 53, 59, 60, 61, 62, 64, 65, 66, 70, 76, 79, 80, 80, 81, 83, 90]\n",
      "Temperatures in Celsius are [57.6, 117.0, 127.8, 165.6, 144.0, 145.8, 147.6, 153.0, 153.0, 163.8, 165.6, 167.4, 169.20000000000002, 172.8, 174.6, 176.4, 183.6, 194.4, 199.8, 201.6, 201.6, 203.4, 207.0, 219.6]\n"
     ]
    }
   ],
   "source": [
    "print(f\"Temperatures in Farenheit are {temperatures_C}\")\n",
    "print(f\"Temperatures in Celsius are {temp_conv(temperatures_C)}\")"
   ]
  },
  {
   "cell_type": "code",
   "execution_count": 80,
   "metadata": {},
   "outputs": [
    {
     "name": "stdout",
     "output_type": "stream",
     "text": [
      "Standard Deviation of Farenheit is 19.431736703247804\n",
      "Standard Deviation of Celsius is 34.97712606584605\n"
     ]
    }
   ],
   "source": [
    "print(f\"Standard Deviation of Farenheit is {stdev(temperatures_C)}\")\n",
    "print(f\"Standard Deviation of Celsius is {stdev(temp_conv(temperatures_C))}\")"
   ]
  },
  {
   "cell_type": "code",
   "execution_count": null,
   "metadata": {},
   "outputs": [],
   "source": []
  }
 ],
 "metadata": {
  "kernelspec": {
   "display_name": "Python 3",
   "language": "python",
   "name": "python3"
  },
  "language_info": {
   "codemirror_mode": {
    "name": "ipython",
    "version": 3
   },
   "file_extension": ".py",
   "mimetype": "text/x-python",
   "name": "python",
   "nbconvert_exporter": "python",
   "pygments_lexer": "ipython3",
   "version": "3.7.4"
  }
 },
 "nbformat": 4,
 "nbformat_minor": 2
}
